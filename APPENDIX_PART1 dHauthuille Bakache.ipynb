{
 "cells": [
  {
   "cell_type": "code",
   "execution_count": 27,
   "id": "0d00e578",
   "metadata": {},
   "outputs": [],
   "source": [
    "import numpy as np\n",
    "import pandas as pd\n",
    "import matplotlib.pyplot as plt\n",
    "from scipy.stats import t,f\n",
    "from scipy import stats\n",
    "import statsmodels.api as sm"
   ]
  },
  {
   "cell_type": "code",
   "execution_count": 28,
   "id": "d6a91628",
   "metadata": {},
   "outputs": [],
   "source": [
    "df = pd.read_csv('MROZ.txt', delim_whitespace=True, header = None)\n",
    "indexNames = df[ df[6] == '.' ].index # get names of indexes for which column wage has value of '.' \n",
    "df.drop(indexNames , inplace=True) # delete these row indexes from dataFrame\n",
    "df = df.astype(float) # transform to float\n",
    "\n"
   ]
  },
  {
   "cell_type": "markdown",
   "id": "f46e04ea",
   "metadata": {},
   "source": [
    "Q1\n",
    "\n",
    "Nous sélectionnons seulement les lignes pour lesquelles le salaire est défini et non nul. Ceci grâce à la commande .loc"
   ]
  },
  {
   "cell_type": "code",
   "execution_count": 29,
   "id": "863277b2",
   "metadata": {},
   "outputs": [
    {
     "name": "stdout",
     "output_type": "stream",
     "text": [
      "Taille: 428 22\n",
      "Taille pour les salaires strictement positifs >0: 428 22\n"
     ]
    },
    {
     "data": {
      "text/html": [
       "<div>\n",
       "<style scoped>\n",
       "    .dataframe tbody tr th:only-of-type {\n",
       "        vertical-align: middle;\n",
       "    }\n",
       "\n",
       "    .dataframe tbody tr th {\n",
       "        vertical-align: top;\n",
       "    }\n",
       "\n",
       "    .dataframe thead th {\n",
       "        text-align: right;\n",
       "    }\n",
       "</style>\n",
       "<table border=\"1\" class=\"dataframe\">\n",
       "  <thead>\n",
       "    <tr style=\"text-align: right;\">\n",
       "      <th></th>\n",
       "      <th>0</th>\n",
       "      <th>1</th>\n",
       "      <th>2</th>\n",
       "      <th>3</th>\n",
       "      <th>4</th>\n",
       "      <th>5</th>\n",
       "      <th>6</th>\n",
       "      <th>7</th>\n",
       "      <th>8</th>\n",
       "      <th>9</th>\n",
       "      <th>...</th>\n",
       "      <th>12</th>\n",
       "      <th>13</th>\n",
       "      <th>14</th>\n",
       "      <th>15</th>\n",
       "      <th>16</th>\n",
       "      <th>17</th>\n",
       "      <th>18</th>\n",
       "      <th>19</th>\n",
       "      <th>20</th>\n",
       "      <th>21</th>\n",
       "    </tr>\n",
       "  </thead>\n",
       "  <tbody>\n",
       "    <tr>\n",
       "      <th>0</th>\n",
       "      <td>1.0</td>\n",
       "      <td>1610.0</td>\n",
       "      <td>1.0</td>\n",
       "      <td>0.0</td>\n",
       "      <td>32.0</td>\n",
       "      <td>12.0</td>\n",
       "      <td>3.3540</td>\n",
       "      <td>2.65</td>\n",
       "      <td>2708.0</td>\n",
       "      <td>34.0</td>\n",
       "      <td>...</td>\n",
       "      <td>16310.0</td>\n",
       "      <td>0.7215</td>\n",
       "      <td>12.0</td>\n",
       "      <td>7.0</td>\n",
       "      <td>5.0</td>\n",
       "      <td>0.0</td>\n",
       "      <td>14.0</td>\n",
       "      <td>10.910060</td>\n",
       "      <td>1.210154</td>\n",
       "      <td>196.0</td>\n",
       "    </tr>\n",
       "    <tr>\n",
       "      <th>1</th>\n",
       "      <td>1.0</td>\n",
       "      <td>1656.0</td>\n",
       "      <td>0.0</td>\n",
       "      <td>2.0</td>\n",
       "      <td>30.0</td>\n",
       "      <td>12.0</td>\n",
       "      <td>1.3889</td>\n",
       "      <td>2.65</td>\n",
       "      <td>2310.0</td>\n",
       "      <td>30.0</td>\n",
       "      <td>...</td>\n",
       "      <td>21800.0</td>\n",
       "      <td>0.6615</td>\n",
       "      <td>7.0</td>\n",
       "      <td>7.0</td>\n",
       "      <td>11.0</td>\n",
       "      <td>1.0</td>\n",
       "      <td>5.0</td>\n",
       "      <td>19.499980</td>\n",
       "      <td>0.328512</td>\n",
       "      <td>25.0</td>\n",
       "    </tr>\n",
       "    <tr>\n",
       "      <th>2</th>\n",
       "      <td>1.0</td>\n",
       "      <td>1980.0</td>\n",
       "      <td>1.0</td>\n",
       "      <td>3.0</td>\n",
       "      <td>35.0</td>\n",
       "      <td>12.0</td>\n",
       "      <td>4.5455</td>\n",
       "      <td>4.04</td>\n",
       "      <td>3072.0</td>\n",
       "      <td>40.0</td>\n",
       "      <td>...</td>\n",
       "      <td>21040.0</td>\n",
       "      <td>0.6915</td>\n",
       "      <td>12.0</td>\n",
       "      <td>7.0</td>\n",
       "      <td>5.0</td>\n",
       "      <td>0.0</td>\n",
       "      <td>15.0</td>\n",
       "      <td>12.039910</td>\n",
       "      <td>1.514138</td>\n",
       "      <td>225.0</td>\n",
       "    </tr>\n",
       "    <tr>\n",
       "      <th>3</th>\n",
       "      <td>1.0</td>\n",
       "      <td>456.0</td>\n",
       "      <td>0.0</td>\n",
       "      <td>3.0</td>\n",
       "      <td>34.0</td>\n",
       "      <td>12.0</td>\n",
       "      <td>1.0965</td>\n",
       "      <td>3.25</td>\n",
       "      <td>1920.0</td>\n",
       "      <td>53.0</td>\n",
       "      <td>...</td>\n",
       "      <td>7300.0</td>\n",
       "      <td>0.7815</td>\n",
       "      <td>7.0</td>\n",
       "      <td>7.0</td>\n",
       "      <td>5.0</td>\n",
       "      <td>0.0</td>\n",
       "      <td>6.0</td>\n",
       "      <td>6.799996</td>\n",
       "      <td>0.092123</td>\n",
       "      <td>36.0</td>\n",
       "    </tr>\n",
       "    <tr>\n",
       "      <th>4</th>\n",
       "      <td>1.0</td>\n",
       "      <td>1568.0</td>\n",
       "      <td>1.0</td>\n",
       "      <td>2.0</td>\n",
       "      <td>31.0</td>\n",
       "      <td>14.0</td>\n",
       "      <td>4.5918</td>\n",
       "      <td>3.60</td>\n",
       "      <td>2000.0</td>\n",
       "      <td>32.0</td>\n",
       "      <td>...</td>\n",
       "      <td>27300.0</td>\n",
       "      <td>0.6215</td>\n",
       "      <td>12.0</td>\n",
       "      <td>14.0</td>\n",
       "      <td>9.5</td>\n",
       "      <td>1.0</td>\n",
       "      <td>7.0</td>\n",
       "      <td>20.100060</td>\n",
       "      <td>1.524272</td>\n",
       "      <td>49.0</td>\n",
       "    </tr>\n",
       "    <tr>\n",
       "      <th>...</th>\n",
       "      <td>...</td>\n",
       "      <td>...</td>\n",
       "      <td>...</td>\n",
       "      <td>...</td>\n",
       "      <td>...</td>\n",
       "      <td>...</td>\n",
       "      <td>...</td>\n",
       "      <td>...</td>\n",
       "      <td>...</td>\n",
       "      <td>...</td>\n",
       "      <td>...</td>\n",
       "      <td>...</td>\n",
       "      <td>...</td>\n",
       "      <td>...</td>\n",
       "      <td>...</td>\n",
       "      <td>...</td>\n",
       "      <td>...</td>\n",
       "      <td>...</td>\n",
       "      <td>...</td>\n",
       "      <td>...</td>\n",
       "      <td>...</td>\n",
       "    </tr>\n",
       "    <tr>\n",
       "      <th>423</th>\n",
       "      <td>1.0</td>\n",
       "      <td>680.0</td>\n",
       "      <td>0.0</td>\n",
       "      <td>5.0</td>\n",
       "      <td>36.0</td>\n",
       "      <td>10.0</td>\n",
       "      <td>2.3118</td>\n",
       "      <td>0.00</td>\n",
       "      <td>3430.0</td>\n",
       "      <td>43.0</td>\n",
       "      <td>...</td>\n",
       "      <td>19772.0</td>\n",
       "      <td>0.7215</td>\n",
       "      <td>7.0</td>\n",
       "      <td>7.0</td>\n",
       "      <td>7.5</td>\n",
       "      <td>0.0</td>\n",
       "      <td>2.0</td>\n",
       "      <td>18.199980</td>\n",
       "      <td>0.838027</td>\n",
       "      <td>4.0</td>\n",
       "    </tr>\n",
       "    <tr>\n",
       "      <th>424</th>\n",
       "      <td>1.0</td>\n",
       "      <td>2450.0</td>\n",
       "      <td>0.0</td>\n",
       "      <td>1.0</td>\n",
       "      <td>40.0</td>\n",
       "      <td>12.0</td>\n",
       "      <td>5.3061</td>\n",
       "      <td>6.50</td>\n",
       "      <td>2008.0</td>\n",
       "      <td>40.0</td>\n",
       "      <td>...</td>\n",
       "      <td>35641.0</td>\n",
       "      <td>0.6215</td>\n",
       "      <td>7.0</td>\n",
       "      <td>7.0</td>\n",
       "      <td>5.0</td>\n",
       "      <td>1.0</td>\n",
       "      <td>21.0</td>\n",
       "      <td>22.641060</td>\n",
       "      <td>1.668857</td>\n",
       "      <td>441.0</td>\n",
       "    </tr>\n",
       "    <tr>\n",
       "      <th>425</th>\n",
       "      <td>1.0</td>\n",
       "      <td>2144.0</td>\n",
       "      <td>0.0</td>\n",
       "      <td>2.0</td>\n",
       "      <td>43.0</td>\n",
       "      <td>13.0</td>\n",
       "      <td>5.8675</td>\n",
       "      <td>0.00</td>\n",
       "      <td>2140.0</td>\n",
       "      <td>43.0</td>\n",
       "      <td>...</td>\n",
       "      <td>34220.0</td>\n",
       "      <td>0.5815</td>\n",
       "      <td>7.0</td>\n",
       "      <td>7.0</td>\n",
       "      <td>7.5</td>\n",
       "      <td>1.0</td>\n",
       "      <td>22.0</td>\n",
       "      <td>21.640080</td>\n",
       "      <td>1.769429</td>\n",
       "      <td>484.0</td>\n",
       "    </tr>\n",
       "    <tr>\n",
       "      <th>426</th>\n",
       "      <td>1.0</td>\n",
       "      <td>1760.0</td>\n",
       "      <td>0.0</td>\n",
       "      <td>1.0</td>\n",
       "      <td>33.0</td>\n",
       "      <td>12.0</td>\n",
       "      <td>3.4091</td>\n",
       "      <td>3.21</td>\n",
       "      <td>3380.0</td>\n",
       "      <td>34.0</td>\n",
       "      <td>...</td>\n",
       "      <td>30000.0</td>\n",
       "      <td>0.5815</td>\n",
       "      <td>12.0</td>\n",
       "      <td>16.0</td>\n",
       "      <td>11.0</td>\n",
       "      <td>1.0</td>\n",
       "      <td>14.0</td>\n",
       "      <td>23.999980</td>\n",
       "      <td>1.226448</td>\n",
       "      <td>196.0</td>\n",
       "    </tr>\n",
       "    <tr>\n",
       "      <th>427</th>\n",
       "      <td>1.0</td>\n",
       "      <td>490.0</td>\n",
       "      <td>0.0</td>\n",
       "      <td>1.0</td>\n",
       "      <td>30.0</td>\n",
       "      <td>12.0</td>\n",
       "      <td>4.0816</td>\n",
       "      <td>2.46</td>\n",
       "      <td>2430.0</td>\n",
       "      <td>33.0</td>\n",
       "      <td>...</td>\n",
       "      <td>18000.0</td>\n",
       "      <td>0.6915</td>\n",
       "      <td>12.0</td>\n",
       "      <td>12.0</td>\n",
       "      <td>7.5</td>\n",
       "      <td>1.0</td>\n",
       "      <td>7.0</td>\n",
       "      <td>16.000020</td>\n",
       "      <td>1.406489</td>\n",
       "      <td>49.0</td>\n",
       "    </tr>\n",
       "  </tbody>\n",
       "</table>\n",
       "<p>428 rows × 22 columns</p>\n",
       "</div>"
      ],
      "text/plain": [
       "      0       1    2    3     4     5       6     7       8     9   ...  \\\n",
       "0    1.0  1610.0  1.0  0.0  32.0  12.0  3.3540  2.65  2708.0  34.0  ...   \n",
       "1    1.0  1656.0  0.0  2.0  30.0  12.0  1.3889  2.65  2310.0  30.0  ...   \n",
       "2    1.0  1980.0  1.0  3.0  35.0  12.0  4.5455  4.04  3072.0  40.0  ...   \n",
       "3    1.0   456.0  0.0  3.0  34.0  12.0  1.0965  3.25  1920.0  53.0  ...   \n",
       "4    1.0  1568.0  1.0  2.0  31.0  14.0  4.5918  3.60  2000.0  32.0  ...   \n",
       "..   ...     ...  ...  ...   ...   ...     ...   ...     ...   ...  ...   \n",
       "423  1.0   680.0  0.0  5.0  36.0  10.0  2.3118  0.00  3430.0  43.0  ...   \n",
       "424  1.0  2450.0  0.0  1.0  40.0  12.0  5.3061  6.50  2008.0  40.0  ...   \n",
       "425  1.0  2144.0  0.0  2.0  43.0  13.0  5.8675  0.00  2140.0  43.0  ...   \n",
       "426  1.0  1760.0  0.0  1.0  33.0  12.0  3.4091  3.21  3380.0  34.0  ...   \n",
       "427  1.0   490.0  0.0  1.0  30.0  12.0  4.0816  2.46  2430.0  33.0  ...   \n",
       "\n",
       "          12      13    14    15    16   17    18         19        20     21  \n",
       "0    16310.0  0.7215  12.0   7.0   5.0  0.0  14.0  10.910060  1.210154  196.0  \n",
       "1    21800.0  0.6615   7.0   7.0  11.0  1.0   5.0  19.499980  0.328512   25.0  \n",
       "2    21040.0  0.6915  12.0   7.0   5.0  0.0  15.0  12.039910  1.514138  225.0  \n",
       "3     7300.0  0.7815   7.0   7.0   5.0  0.0   6.0   6.799996  0.092123   36.0  \n",
       "4    27300.0  0.6215  12.0  14.0   9.5  1.0   7.0  20.100060  1.524272   49.0  \n",
       "..       ...     ...   ...   ...   ...  ...   ...        ...       ...    ...  \n",
       "423  19772.0  0.7215   7.0   7.0   7.5  0.0   2.0  18.199980  0.838027    4.0  \n",
       "424  35641.0  0.6215   7.0   7.0   5.0  1.0  21.0  22.641060  1.668857  441.0  \n",
       "425  34220.0  0.5815   7.0   7.0   7.5  1.0  22.0  21.640080  1.769429  484.0  \n",
       "426  30000.0  0.5815  12.0  16.0  11.0  1.0  14.0  23.999980  1.226448  196.0  \n",
       "427  18000.0  0.6915  12.0  12.0   7.5  1.0   7.0  16.000020  1.406489   49.0  \n",
       "\n",
       "[428 rows x 22 columns]"
      ]
     },
     "execution_count": 29,
     "metadata": {},
     "output_type": "execute_result"
    }
   ],
   "source": [
    "i,j = df.shape\n",
    "print('Taille:', i, j)\n",
    "\n",
    "df = df.loc[df[6] > 0]\n",
    "\n",
    "k,m=df.shape\n",
    "print('Taille pour les salaires strictement positifs >0:',k,m)\n",
    "df"
   ]
  },
  {
   "cell_type": "code",
   "execution_count": 30,
   "id": "04c5e9c6",
   "metadata": {
    "scrolled": true
   },
   "outputs": [
    {
     "name": "stdout",
     "output_type": "stream",
     "text": [
      "      0       1    2    3     4     5       6     7       8     9   ...  \\\n",
      "0    1.0  1610.0  1.0  0.0  32.0  12.0  3.3540  2.65  2708.0  34.0  ...   \n",
      "1    1.0  1656.0  0.0  2.0  30.0  12.0  1.3889  2.65  2310.0  30.0  ...   \n",
      "2    1.0  1980.0  1.0  3.0  35.0  12.0  4.5455  4.04  3072.0  40.0  ...   \n",
      "3    1.0   456.0  0.0  3.0  34.0  12.0  1.0965  3.25  1920.0  53.0  ...   \n",
      "4    1.0  1568.0  1.0  2.0  31.0  14.0  4.5918  3.60  2000.0  32.0  ...   \n",
      "..   ...     ...  ...  ...   ...   ...     ...   ...     ...   ...  ...   \n",
      "423  1.0   680.0  0.0  5.0  36.0  10.0  2.3118  0.00  3430.0  43.0  ...   \n",
      "424  1.0  2450.0  0.0  1.0  40.0  12.0  5.3061  6.50  2008.0  40.0  ...   \n",
      "425  1.0  2144.0  0.0  2.0  43.0  13.0  5.8675  0.00  2140.0  43.0  ...   \n",
      "426  1.0  1760.0  0.0  1.0  33.0  12.0  3.4091  3.21  3380.0  34.0  ...   \n",
      "427  1.0   490.0  0.0  1.0  30.0  12.0  4.0816  2.46  2430.0  33.0  ...   \n",
      "\n",
      "          12      13    14    15    16   17    18         19        20     21  \n",
      "0    16310.0  0.7215  12.0   7.0   5.0  0.0  14.0  10.910060  1.210154  196.0  \n",
      "1    21800.0  0.6615   7.0   7.0  11.0  1.0   5.0  19.499980  0.328512   25.0  \n",
      "2    21040.0  0.6915  12.0   7.0   5.0  0.0  15.0  12.039910  1.514138  225.0  \n",
      "3     7300.0  0.7815   7.0   7.0   5.0  0.0   6.0   6.799996  0.092123   36.0  \n",
      "4    27300.0  0.6215  12.0  14.0   9.5  1.0   7.0  20.100060  1.524272   49.0  \n",
      "..       ...     ...   ...   ...   ...  ...   ...        ...       ...    ...  \n",
      "423  19772.0  0.7215   7.0   7.0   7.5  0.0   2.0  18.199980  0.838027    4.0  \n",
      "424  35641.0  0.6215   7.0   7.0   5.0  1.0  21.0  22.641060  1.668857  441.0  \n",
      "425  34220.0  0.5815   7.0   7.0   7.5  1.0  22.0  21.640080  1.769429  484.0  \n",
      "426  30000.0  0.5815  12.0  16.0  11.0  1.0  14.0  23.999980  1.226448  196.0  \n",
      "427  18000.0  0.6915  12.0  12.0   7.5  1.0   7.0  16.000020  1.406489   49.0  \n",
      "\n",
      "[428 rows x 22 columns]\n"
     ]
    }
   ],
   "source": [
    "print(df)"
   ]
  },
  {
   "cell_type": "markdown",
   "id": "06950e48",
   "metadata": {},
   "source": [
    "**Q2**\n",
    "\n",
    "Pour l'ensemble des femmes:"
   ]
  },
  {
   "cell_type": "code",
   "execution_count": 31,
   "id": "a0e0dab6",
   "metadata": {},
   "outputs": [
    {
     "name": "stdout",
     "output_type": "stream",
     "text": [
      "Wage:\n"
     ]
    },
    {
     "data": {
      "text/plain": [
       "count    428.000000\n",
       "mean       4.177682\n",
       "std        3.310282\n",
       "min        0.128200\n",
       "25%        2.262600\n",
       "50%        3.481900\n",
       "75%        4.970750\n",
       "max       25.000000\n",
       "Name: 6, dtype: float64"
      ]
     },
     "execution_count": 31,
     "metadata": {},
     "output_type": "execute_result"
    }
   ],
   "source": [
    "\n",
    "print('Wage:')\n",
    "wage=df[6]\n",
    "wage.describe()\n"
   ]
  },
  {
   "cell_type": "markdown",
   "id": "e20f0db2",
   "metadata": {},
   "source": [
    "Pour les femmes dont le salaire du mari est supérieur à la médiane:"
   ]
  },
  {
   "cell_type": "code",
   "execution_count": 32,
   "id": "6cedc49a",
   "metadata": {},
   "outputs": [
    {
     "data": {
      "text/plain": [
       "count    214.000000\n",
       "mean       9.833896\n",
       "std        3.134101\n",
       "min        6.687200\n",
       "25%        7.569925\n",
       "50%        8.840450\n",
       "75%       11.262250\n",
       "max       26.578000\n",
       "Name: 11, dtype: float64"
      ]
     },
     "execution_count": 32,
     "metadata": {},
     "output_type": "execute_result"
    }
   ],
   "source": [
    "# Pour les femmes dont le salaire du mari est supérieur à la médiane\n",
    "median = np.median(df[11]) #mediane\n",
    "wage2 = df[11].loc[df[11] >= median] #selectionne les femmes\n",
    "wage2.describe()"
   ]
  },
  {
   "cell_type": "markdown",
   "id": "9961931e",
   "metadata": {},
   "source": [
    "Pour les femmes dont le salaire du mari est inférieur à la médiane:"
   ]
  },
  {
   "cell_type": "code",
   "execution_count": 33,
   "id": "b3a2d928",
   "metadata": {},
   "outputs": [
    {
     "data": {
      "text/plain": [
       "count    214.000000\n",
       "mean       4.618557\n",
       "std        1.442478\n",
       "min        0.512800\n",
       "25%        3.764875\n",
       "50%        4.810600\n",
       "75%        5.820600\n",
       "max        6.679000\n",
       "Name: 11, dtype: float64"
      ]
     },
     "execution_count": 33,
     "metadata": {},
     "output_type": "execute_result"
    }
   ],
   "source": [
    "# Pour les femmes dont le salaire du mari est inférieur à la médiane\n",
    "wage3 = df[11].loc[df[11] <= median]  \n",
    "wage3.describe()"
   ]
  },
  {
   "cell_type": "markdown",
   "id": "47fa9bcb",
   "metadata": {},
   "source": [
    "**Q3**"
   ]
  },
  {
   "cell_type": "code",
   "execution_count": 34,
   "id": "5f3ce568",
   "metadata": {},
   "outputs": [
    {
     "data": {
      "image/png": "[encoded data removed]",
      "text/plain": [
       "<Figure size 432x288 with 1 Axes>"
      ]
     },
     "metadata": {
      "needs_background": "light"
     },
     "output_type": "display_data"
    }
   ],
   "source": [
    "plt.hist(wage)\n",
    "plt.title('Histogramme des salaires')\n",
    "plt.show()"
   ]
  },
  {
   "cell_type": "code",
   "execution_count": 35,
   "id": "43901290",
   "metadata": {},
   "outputs": [
    {
     "data": {
      "image/png": "[encoded data removed]",
      "text/plain": [
       "<Figure size 432x288 with 1 Axes>"
      ]
     },
     "metadata": {
      "needs_background": "light"
     },
     "output_type": "display_data"
    },
    {
     "data": {
      "text/plain": [
       "'Le premier histogramme ressemble à une distribution exponentielle. La variable log(wage) suit une loi gaussienne, centrée autour de 1 environ mais dont la variance n est pas réduit'"
      ]
     },
     "execution_count": 35,
     "metadata": {},
     "output_type": "execute_result"
    }
   ],
   "source": [
    "y=np.log(wage)\n",
    "plt.hist(y)\n",
    "plt.title('Histogramme du log des salaires')\n",
    "plt.show()\n",
    "\n",
    "\n",
    "'Le premier histogramme ressemble à une distribution exponentielle. La variable log(wage) suit une loi gaussienne, centrée autour de 1 environ mais dont la variance n est pas réduit'\n"
   ]
  },
  {
   "cell_type": "code",
   "execution_count": 36,
   "id": "75c99ea0",
   "metadata": {},
   "outputs": [
    {
     "name": "stdout",
     "output_type": "stream",
     "text": [
      "corrélation motheduc wage 0.05707416439783269\n",
      "corrélation fatheduc wage 0.10773624582184281\n",
      "corrélation motheduc fatheduc 0.5540632184311677\n"
     ]
    }
   ],
   "source": [
    "\n",
    "\n",
    "Mo = df[14] #motheduc \n",
    "Fa = df[15] #fatheduc\n",
    "print('corrélation motheduc wage', Mo.corr(wage))\n",
    "print('corrélation fatheduc wage',Fa.corr(wage))\n",
    "print('corrélation motheduc fatheduc',Mo.corr(Fa))\n",
    "\n"
   ]
  },
  {
   "cell_type": "code",
   "execution_count": 37,
   "id": "a92d3377",
   "metadata": {},
   "outputs": [
    {
     "data": {
      "image/png": "[encoded data removed]",
      "text/plain": [
       "<Figure size 432x288 with 1 Axes>"
      ]
     },
     "metadata": {
      "needs_background": "light"
     },
     "output_type": "display_data"
    }
   ],
   "source": [
    "#Q5 \n",
    "\n",
    "#Entre educ et wage\n",
    "educ=df[5]\n",
    "plt.scatter(educ,wage)\n",
    "plt.xlabel(\"educ\")\n",
    "plt.ylabel(\"wage\")\n",
    "plt.show()"
   ]
  },
  {
   "cell_type": "code",
   "execution_count": 38,
   "id": "54d87e54",
   "metadata": {},
   "outputs": [
    {
     "data": {
      "image/png": "[encoded data removed]",
      "text/plain": [
       "<Figure size 432x288 with 1 Axes>"
      ]
     },
     "metadata": {
      "needs_background": "light"
     },
     "output_type": "display_data"
    }
   ],
   "source": [
    "#entre wage et exper\n",
    "exper=df[18]\n",
    "plt.scatter(exper,wage)\n",
    "plt.xlabel(\"exper\")\n",
    "plt.ylabel(\"wage\")\n",
    "plt.show()"
   ]
  },
  {
   "cell_type": "code",
   "execution_count": 39,
   "id": "98aed0e3",
   "metadata": {},
   "outputs": [
    {
     "data": {
      "image/png": "[encoded data removed]",
      "text/plain": [
       "<Figure size 432x288 with 1 Axes>"
      ]
     },
     "metadata": {
      "needs_background": "light"
     },
     "output_type": "display_data"
    },
    {
     "data": {
      "text/plain": [
       "'Pour chaque graphique, les autres variables varie également. Par exemple, pour le dernier graphique, l éducation varient en même temps que l éducation du père. Il ne s agit pas d un effet toutes choses sont égales par ailleurs.'"
      ]
     },
     "execution_count": 39,
     "metadata": {},
     "output_type": "execute_result"
    }
   ],
   "source": [
    "#entre wage et fatheduc\n",
    "exper=df[15]\n",
    "plt.scatter(exper,wage)\n",
    "plt.xlabel(\"fatheduc\")\n",
    "plt.ylabel(\"wage\")\n",
    "plt.show()\n",
    "\n",
    "'Pour chaque graphique, les autres variables varie également. Par exemple, pour le dernier graphique, l éducation varient en même temps que l éducation du père. Il ne s agit pas d un effet toutes choses sont égales par ailleurs.'\n",
    "\n",
    "\n",
    "\n"
   ]
  },
  {
   "cell_type": "code",
   "execution_count": 40,
   "id": "2c0c60a4",
   "metadata": {},
   "outputs": [
    {
     "data": {
      "text/plain": [
       "'hypothèse fondamentale : E(u|x)=0'"
      ]
     },
     "execution_count": 40,
     "metadata": {},
     "output_type": "execute_result"
    }
   ],
   "source": [
    "#Q6\n",
    "\n",
    "'hypothèse fondamentale : E(u|x)=0'"
   ]
  },
  {
   "cell_type": "code",
   "execution_count": 41,
   "id": "63770380",
   "metadata": {},
   "outputs": [
    {
     "name": "stdout",
     "output_type": "stream",
     "text": [
      "variance 9.54162046810813\n"
     ]
    },
    {
     "data": {
      "text/plain": [
       "'La variance est grande et la repartition des valeurs est dissymétrique autour de 0: ca ne semble pas être pas une loi centrée reduite'"
      ]
     },
     "execution_count": 41,
     "metadata": {},
     "output_type": "execute_result"
    },
    {
     "data": {
      "image/png": "[encoded data removed]",
      "text/plain": [
       "<Figure size 432x288 with 1 Axes>"
      ]
     },
     "metadata": {
      "needs_background": "light"
     },
     "output_type": "display_data"
    }
   ],
   "source": [
    "#Q7\n",
    "\n",
    "wage = df[6]\n",
    "const = np.ones(np.shape(wage))\n",
    "exper = df[18]\n",
    "city = df[17]\n",
    "educ = df[5]\n",
    "nwifeinc = df[19]\n",
    "kidslt6 = df[2]\n",
    "kidsgt6 = df[3]\n",
    "X7 = np.column_stack((const, city, educ, exper, nwifeinc, kidslt6, kidsgt6))\n",
    "model = sm.OLS(wage, X7)\n",
    "model_fit = model.fit()\n",
    "residus = model_fit.resid\n",
    "\n",
    "plt.figure(5)\n",
    "plt.hist(residus,'auto', label='Histogramme des résidus avec wage')\n",
    "plt.legend()\n",
    "print('variance',np.var(residus))\n",
    "\n",
    "'La variance est grande et la repartition des valeurs est dissymétrique autour de 0: ca ne semble pas être pas une loi centrée reduite'\n",
    "\n"
   ]
  },
  {
   "cell_type": "code",
   "execution_count": 42,
   "id": "4514df7f",
   "metadata": {},
   "outputs": [
    {
     "name": "stdout",
     "output_type": "stream",
     "text": [
      "                            OLS Regression Results                            \n",
      "==============================================================================\n",
      "Dep. Variable:                      6   R-squared:                       0.156\n",
      "Model:                            OLS   Adj. R-squared:                  0.144\n",
      "Method:                 Least Squares   F-statistic:                     12.92\n",
      "Date:                Sun, 21 Nov 2021   Prob (F-statistic):           2.00e-13\n",
      "Time:                        23:06:45   Log-Likelihood:                -431.92\n",
      "No. Observations:                 428   AIC:                             877.8\n",
      "Df Residuals:                     421   BIC:                             906.3\n",
      "Df Model:                           6                                         \n",
      "Covariance Type:            nonrobust                                         \n",
      "==============================================================================\n",
      "                 coef    std err          t      P>|t|      [0.025      0.975]\n",
      "------------------------------------------------------------------------------\n",
      "const         -0.3990      0.207     -1.927      0.055      -0.806       0.008\n",
      "x1             0.0353      0.070      0.503      0.616      -0.103       0.173\n",
      "x2             0.1022      0.015      6.771      0.000       0.073       0.132\n",
      "x3             0.0155      0.004      3.452      0.001       0.007       0.024\n",
      "x4             0.0049      0.003      1.466      0.143      -0.002       0.011\n",
      "x5            -0.0453      0.085     -0.531      0.596      -0.213       0.122\n",
      "x6            -0.0117      0.027     -0.434      0.664      -0.065       0.041\n",
      "==============================================================================\n",
      "Omnibus:                       79.542   Durbin-Watson:                   1.979\n",
      "Prob(Omnibus):                  0.000   Jarque-Bera (JB):              287.193\n",
      "Skew:                          -0.795   Prob(JB):                     4.33e-63\n",
      "Kurtosis:                       6.685   Cond. No.                         178.\n",
      "==============================================================================\n",
      "\n",
      "Notes:\n",
      "[1] Standard Errors assume that the covariance matrix of the errors is correctly specified.\n",
      "0.44063077849053633\n"
     ]
    },
    {
     "data": {
      "text/plain": [
       "'La variance est plus proche de 1, et la répartition des valeurs est plus ou moins symétrique autour de 0: avec le logarithme des salaires, les résidus se rappochent d une loi gaussienne centrée réduite.'"
      ]
     },
     "execution_count": 42,
     "metadata": {},
     "output_type": "execute_result"
    },
    {
     "data": {
      "image/png": "[encoded data removed]",
      "text/plain": [
       "<Figure size 432x288 with 1 Axes>"
      ]
     },
     "metadata": {
      "needs_background": "light"
     },
     "output_type": "display_data"
    }
   ],
   "source": [
    "#Q8\n",
    " \n",
    "logwage = np.log(wage)\n",
    "X = np.column_stack((const, city, educ, exper, nwifeinc, kidslt6, kidsgt6))\n",
    "model_2 = sm.OLS(logwage, X)\n",
    "model_fit_2 = model_2.fit()\n",
    "residus_2 = model_fit_2.resid\n",
    "SSR1=residus_2.T@residus_2\n",
    "print(model_fit_2.summary())\n",
    "plt.figure(5)\n",
    "plt.hist(residus_2,'auto', label='Histogramme des résidus avec logwage')\n",
    "plt.legend()\n",
    "print(np.var(residus_2))\n",
    "'La variance est plus proche de 1, et la répartition des valeurs est plus ou moins symétrique autour de 0: avec le logarithme des salaires, les résidus se rappochent d une loi gaussienne centrée réduite.'\n"
   ]
  },
  {
   "cell_type": "code",
   "execution_count": 43,
   "id": "5cff597c",
   "metadata": {},
   "outputs": [
    {
     "name": "stdout",
     "output_type": "stream",
     "text": [
      "Hypothèse nulle H0: X4 = 0\n",
      "P-value de nwifeinc:  0.14266143440889434 \n",
      "\n",
      "Rejet de HO avec seuil de significativité à 1% : False\n",
      "Rejet de HO avec seuil de significativité à 5% : False\n",
      "Rejet de HO avec seuil de significativité à 10% : False\n"
     ]
    }
   ],
   "source": [
    "#Q9\n",
    "\n",
    "\n",
    "\n",
    "from scipy.stats import norm\n",
    "#extract std error and coef\n",
    "std = model_fit_2.bse\n",
    "coef = model_fit_2.params\n",
    "\n",
    "\n",
    "p_values = norm.cdf(-1*abs(coef/std))*2\n",
    "\n",
    "print('Hypothèse nulle H0: X4 = 0')\n",
    "print('P-value de nwifeinc: ', p_values[4], '\\n')\n",
    "\n",
    "def rejet_hyp():\n",
    "    print('Rejet de HO avec seuil de significativité à 1% :', p_values[4] < 0.01)\n",
    "    print('Rejet de HO avec seuil de significativité à 5% :', p_values[4] < 0.05)\n",
    "    print('Rejet de HO avec seuil de significativité à 10% :', p_values[4] < 0.1)\n",
    "    \n",
    "rejet_hyp()"
   ]
  },
  {
   "cell_type": "code",
   "execution_count": 44,
   "id": "a07c663c",
   "metadata": {},
   "outputs": [
    {
     "name": "stdout",
     "output_type": "stream",
     "text": [
      "Hypothèse nulle H0: X4 = 0.01\n",
      "P-value de nwifeinc:  0.12444305576562575 \n",
      "\n",
      "Rejet de Ho avec un seuil de significativité à 5%:  False\n"
     ]
    }
   ],
   "source": [
    "#10\n",
    "\n",
    "\n",
    "p_value_2 = norm.cdf(-1*abs((coef[4]-0.01)/ std[4]))*2\n",
    "\n",
    "\n",
    "print('Hypothèse nulle H0: X4 = 0.01')\n",
    "print('P-value de nwifeinc: ', p_value_2, '\\n')\n",
    "\n",
    "print('Rejet de Ho avec un seuil de significativité à 5%: ', p_value_2 < 0.05)"
   ]
  },
  {
   "cell_type": "code",
   "execution_count": 45,
   "id": "f0ba153d",
   "metadata": {},
   "outputs": [
    {
     "name": "stdout",
     "output_type": "stream",
     "text": [
      "189.78787351329754\n",
      "1.3370701154055398\n",
      "La p-valeur vaut :  0.26372680012868377\n",
      "D après le test de Fisher, on ne rejette pas l hypothèse nulle à 5%\n"
     ]
    }
   ],
   "source": [
    "#Q11\n",
    "\n",
    "X11 = np.column_stack((const, exper, educ, kidslt6, kidsgt6))\n",
    "Y11 = np.log(wage)-0.01*nwifeinc - 0.05*city\n",
    "model_11 = sm.OLS(Y11,X11)\n",
    "res_11 = model_11.fit()\n",
    "u = res_11.resid\n",
    "SSR11 = u.T@u\n",
    "print(SSR11)\n",
    "n,k = np.shape(X7)\n",
    "F11 =((SSR11 - SSR1)/SSR1)*(n-k)/2\n",
    "print(F11)\n",
    "Fisher11 = f.sf(F11,2,n-k)\n",
    "print(\"La p-valeur vaut : \", Fisher11)\n",
    "print('D après le test de Fisher, on ne rejette pas l hypothèse nulle à 5%')"
   ]
  },
  {
   "cell_type": "code",
   "execution_count": 46,
   "id": "2eefeea6",
   "metadata": {},
   "outputs": [
    {
     "data": {
      "image/png": "[encoded data removed]",
      "text/plain": [
       "<Figure size 432x288 with 1 Axes>"
      ]
     },
     "metadata": {
      "needs_background": "light"
     },
     "output_type": "display_data"
    }
   ],
   "source": [
    "#Q12\n",
    "import matplotlib.pyplot as plt\n",
    "from mpl_toolkits.mplot3d import Axes3D\n",
    "\n",
    "fig = plt.figure()\n",
    "ax = plt.axes(projection='3d')\n",
    "X = np.sort(educ)\n",
    "Y = np.sort(exper)\n",
    "Z = np.sort(np.log(wage))\n",
    "ax.plot3D(X,Y,Z)\n",
    "plt.title('Evolution du salaire avec l education et l expérience ') \n",
    "plt.xlabel('Education')\n",
    "plt.ylabel('Experience')\n",
    "plt.show()"
   ]
  },
  {
   "cell_type": "code",
   "execution_count": 47,
   "id": "cd8c2294",
   "metadata": {},
   "outputs": [
    {
     "name": "stdout",
     "output_type": "stream",
     "text": [
      "                            OLS Regression Results                            \n",
      "==============================================================================\n",
      "Dep. Variable:                      6   R-squared:                       0.156\n",
      "Model:                            OLS   Adj. R-squared:                  0.144\n",
      "Method:                 Least Squares   F-statistic:                     12.92\n",
      "Date:                Sun, 21 Nov 2021   Prob (F-statistic):           2.00e-13\n",
      "Time:                        23:06:46   Log-Likelihood:                -431.92\n",
      "No. Observations:                 428   AIC:                             877.8\n",
      "Df Residuals:                     421   BIC:                             906.3\n",
      "Df Model:                           6                                         \n",
      "Covariance Type:            nonrobust                                         \n",
      "==============================================================================\n",
      "                 coef    std err          t      P>|t|      [0.025      0.975]\n",
      "------------------------------------------------------------------------------\n",
      "const         -0.3990      0.207     -1.927      0.055      -0.806       0.008\n",
      "x1             0.0353      0.070      0.503      0.616      -0.103       0.173\n",
      "x2             0.1022      0.015      6.771      0.000       0.073       0.132\n",
      "x3             0.0155      0.004      3.452      0.001       0.007       0.024\n",
      "x4             0.0049      0.003      1.466      0.143      -0.002       0.011\n",
      "x5            -0.0336      0.090     -0.372      0.710      -0.211       0.144\n",
      "x6            -0.0117      0.027     -0.434      0.664      -0.065       0.041\n",
      "==============================================================================\n",
      "Omnibus:                       79.542   Durbin-Watson:                   1.979\n",
      "Prob(Omnibus):                  0.000   Jarque-Bera (JB):              287.193\n",
      "Skew:                          -0.795   Prob(JB):                     4.33e-63\n",
      "Kurtosis:                       6.685   Cond. No.                         178.\n",
      "==============================================================================\n",
      "\n",
      "Notes:\n",
      "[1] Standard Errors assume that the covariance matrix of the errors is correctly specified.\n",
      "On observe une p-value de 71% pour kidsgt6, ce qui est supérieur à 5%: nous ne rejettons pas l hypothèse à 5%\n"
     ]
    }
   ],
   "source": [
    "#13\n",
    "\n",
    "kids = kidslt6.add(kidsgt6)\n",
    "X_13 = np.column_stack((const, city, educ, exper, nwifeinc, kidslt6, kids))\n",
    "Y_13 = np.log(wage)\n",
    "model_13 = sm.OLS(Y_13, X_13)\n",
    "res_13 = model_13.fit()\n",
    "print(res_13.summary())\n",
    "\n",
    "print('On observe une p-value de 71% pour kidsgt6, ce qui est supérieur à 5%: nous ne rejettons pas l hypothèse à 5%')"
   ]
  },
  {
   "cell_type": "code",
   "execution_count": 48,
   "id": "c9cbf797",
   "metadata": {},
   "outputs": [
    {
     "name": "stdout",
     "output_type": "stream",
     "text": [
      "                            OLS Regression Results                            \n",
      "==============================================================================\n",
      "Dep. Variable:                      y   R-squared:                       0.022\n",
      "Model:                            OLS   Adj. R-squared:                  0.008\n",
      "Method:                 Least Squares   F-statistic:                     1.593\n",
      "Date:                Sun, 21 Nov 2021   Prob (F-statistic):              0.148\n",
      "Time:                        23:06:46   Log-Likelihood:                -2207.4\n",
      "No. Observations:                 428   AIC:                             4429.\n",
      "Df Residuals:                     421   BIC:                             4457.\n",
      "Df Model:                           6                                         \n",
      "Covariance Type:            nonrobust                                         \n",
      "==============================================================================\n",
      "                 coef    std err          t      P>|t|      [0.025      0.975]\n",
      "------------------------------------------------------------------------------\n",
      "const          1.4856     13.111      0.113      0.910     -24.285      27.256\n",
      "x1             5.9644      4.444      1.342      0.180      -2.770      14.699\n",
      "x2             0.8077      0.956      0.845      0.399      -1.072       2.687\n",
      "x3            -0.5341      0.284     -1.880      0.061      -1.093       0.024\n",
      "x4             0.0435      0.211      0.206      0.837      -0.371       0.458\n",
      "x5             4.9573      5.402      0.918      0.359      -5.661      15.575\n",
      "x6            -0.4018      1.706     -0.236      0.814      -3.756       2.952\n",
      "==============================================================================\n",
      "Omnibus:                      638.793   Durbin-Watson:                   2.029\n",
      "Prob(Omnibus):                  0.000   Jarque-Bera (JB):            96122.227\n",
      "Skew:                           8.127   Prob(JB):                         0.00\n",
      "Kurtosis:                      74.595   Cond. No.                         178.\n",
      "==============================================================================\n",
      "\n",
      "Notes:\n",
      "[1] Standard Errors assume that the covariance matrix of the errors is correctly specified.\n",
      "F vaut   1.592618162017213\n",
      "La p-value vaut 0.14766133314492783\n",
      "conclusion: on rejette le test d hétéroscédasticité à 5%\n"
     ]
    }
   ],
   "source": [
    "#Q14\n",
    "\n",
    "\n",
    "logwage = np.log(wage)\n",
    "X_14 = np.column_stack((const, city, educ, exper, nwifeinc, kidslt6, kidsgt6))\n",
    "model_14 = sm.OLS(wage, X_14)\n",
    "model_fit_14 = model_14.fit()\n",
    "residus_14 = model_fit_14.resid\n",
    "\n",
    "\n",
    "\n",
    "\n",
    "\n",
    "Y_14 = residus_14**2 \n",
    "\n",
    "\n",
    "model_14_2 = sm.OLS(Y_14, X_14)\n",
    "result_14_2 = model_14_2.fit()\n",
    "\n",
    "H = result_14_2.rsquared\n",
    "\n",
    "print(result_14_2.summary())\n",
    "\n",
    "n,k = np.shape(X_14)\n",
    "F4 = (H/k) / ((1-H) / (n-k-1))\n",
    "p_values_14 = result_14_2.f_pvalue\n",
    "print('F vaut  ', result_14_2.fvalue)\n",
    "print('La p-value vaut', result_14_2.f_pvalue)\n",
    "print('conclusion: on rejette le test d hétéroscédasticité à 5%')\n",
    "\n",
    "\n",
    "\n"
   ]
  },
  {
   "cell_type": "code",
   "execution_count": 50,
   "id": "7b28408c",
   "metadata": {},
   "outputs": [
    {
     "name": "stdout",
     "output_type": "stream",
     "text": [
      "428\n",
      "7\n",
      "SSR1 188.5899731939495\n",
      "SSR_plus43 80.40364431941241\n",
      "SSR_moins43 104.4816493557776\n",
      "F_15 1.1850879384868205\n",
      "La p-valeur vaut :  0.3099731564088487\n",
      "Conclusion: La p-value est supérieure à 5%. Pas de rejet de l hypothèse nulle et pas de changement de structure à 43 ans.\n"
     ]
    }
   ],
   "source": [
    "#15\n",
    "\n",
    "df_plus43 = df.loc[df[4] >= 43] #femmes de plus de 43 ans, puis on prend les données de df_plus43\n",
    "wage_plus43 = df_plus43[6]\n",
    "const_plus43 = np.ones(np.shape(wage_plus43))\n",
    "exper_plus43 = df_plus43[18]\n",
    "city_plus43 = df_plus43[17]\n",
    "educ_plus43 = df_plus43[5]\n",
    "nwifeinc_plus43 = df_plus43[19]\n",
    "kidslt6_plus43 = df_plus43[2]\n",
    "kidsgt6_plus43 = df_plus43[3]\n",
    "lwage_plus43 = np.log(wage_plus43)\n",
    "X_plus43 = np.column_stack((const_plus43, city_plus43, educ_plus43, exper_plus43, nwifeinc_plus43, kidslt6_plus43, kidsgt6_plus43))\n",
    "model_plus43 = sm.OLS(lwage_plus43, X_plus43)\n",
    "model_fit_plus43 = model_plus43.fit()\n",
    "residus_plus43 = model_fit_plus43.resid\n",
    "\n",
    "df_moins43 = df.loc[df[4] < 43] #femmes de plus de 43 ans, puis on prend les données de df_plus43\n",
    "wage_moins43 = df_moins43[6]\n",
    "const_moins43 = np.ones(np.shape(wage_moins43))\n",
    "exper_moins43 = df_moins43[18]\n",
    "city_moins43 = df_moins43[17]\n",
    "educ_moins43 = df_moins43[5]\n",
    "nwifeinc_moins43 = df_moins43[19]\n",
    "kidslt6_moins43 = df_moins43[2]\n",
    "kidsgt6_moins43 = df_moins43[3]\n",
    "lwage_moins43 = np.log(wage_moins43)\n",
    "X_moins43 = np.column_stack((const_moins43, city_moins43, educ_moins43, exper_moins43, nwifeinc_moins43, kidslt6_moins43, kidsgt6_moins43))\n",
    "model_moins43 = sm.OLS(lwage_moins43, X_moins43)\n",
    "model_fit_moins43 = model_moins43.fit()\n",
    "residus_moins43 = model_fit_moins43.resid\n",
    "\n",
    "SSR_plus43 = residus_plus43.T@residus_plus43\n",
    "SSR_moins43 = residus_moins43.T@residus_moins43\n",
    "\n",
    "X = np.column_stack((const, city, educ, exper, nwifeinc, kidslt6, kidsgt6))\n",
    "\n",
    "n,k = np.shape(X)\n",
    "print(n)\n",
    "print(k)\n",
    "F_15 = ((SSR1 - (SSR_plus43+SSR_moins43))/(SSR_plus43+SSR_moins43))*(n-2*k)/7\n",
    "print('SSR1',SSR1)\n",
    "print('SSR_plus43', SSR_plus43)\n",
    "print('SSR_moins43',SSR_moins43)\n",
    "print('F_15',F_15)\n",
    "Fisher15 = f.sf(F_15,7,n-2*k)\n",
    "\n",
    "print(\"La p-valeur vaut : \",Fisher15)\n",
    "print('Conclusion: La p-value est supérieure à 5%. Pas de rejet de l hypothèse nulle et pas de changement de structure à 43 ans.')\n",
    "\n",
    "\n",
    "\n",
    "\n",
    "\n"
   ]
  },
  {
   "cell_type": "code",
   "execution_count": null,
   "id": "6a6aff02",
   "metadata": {},
   "outputs": [],
   "source": []
  },
  {
   "cell_type": "code",
   "execution_count": null,
   "id": "24782984",
   "metadata": {},
   "outputs": [],
   "source": []
  }
 ],
 "metadata": {
  "kernelspec": {
   "display_name": "Python 3",
   "language": "python",
   "name": "python3"
  },
  "language_info": {
   "codemirror_mode": {
    "name": "ipython",
    "version": 3
   },
   "file_extension": ".py",
   "mimetype": "text/x-python",
   "name": "python",
   "nbconvert_exporter": "python",
   "pygments_lexer": "ipython3",
   "version": "3.8.8"
  }
 },
 "nbformat": 4,
 "nbformat_minor": 5
}

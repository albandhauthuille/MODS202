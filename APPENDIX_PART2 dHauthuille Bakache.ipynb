{
 "cells": [
  {
   "cell_type": "code",
   "execution_count": 53,
   "id": "c206b98d",
   "metadata": {},
   "outputs": [],
   "source": [
    "import pandas as pd \n",
    "import numpy as np\n",
    "import matplotlib.pyplot as plt "
   ]
  },
  {
   "cell_type": "markdown",
   "id": "7d647e06",
   "metadata": {},
   "source": [
    "**<b> QUESTION 1**"
   ]
  },
  {
   "cell_type": "code",
   "execution_count": 54,
   "id": "dbcfd8ff",
   "metadata": {
    "scrolled": true
   },
   "outputs": [
    {
     "data": {
      "text/html": [
       "<div>\n",
       "<style scoped>\n",
       "    .dataframe tbody tr th:only-of-type {\n",
       "        vertical-align: middle;\n",
       "    }\n",
       "\n",
       "    .dataframe tbody tr th {\n",
       "        vertical-align: top;\n",
       "    }\n",
       "\n",
       "    .dataframe thead th {\n",
       "        text-align: right;\n",
       "    }\n",
       "</style>\n",
       "<table border=\"1\" class=\"dataframe\">\n",
       "  <thead>\n",
       "    <tr style=\"text-align: right;\">\n",
       "      <th></th>\n",
       "      <th>DATE</th>\n",
       "      <th>FFR</th>\n",
       "      <th>Tbill</th>\n",
       "      <th>Tb1yr</th>\n",
       "      <th>r5</th>\n",
       "      <th>r10</th>\n",
       "      <th>PPINSA</th>\n",
       "      <th>Finished</th>\n",
       "      <th>CPI</th>\n",
       "      <th>CPICORE</th>\n",
       "      <th>M1NSA</th>\n",
       "      <th>M2SA</th>\n",
       "      <th>M2NSA</th>\n",
       "      <th>Unemp</th>\n",
       "      <th>IndProd</th>\n",
       "      <th>RGDP</th>\n",
       "      <th>Potent</th>\n",
       "      <th>Deflator</th>\n",
       "      <th>Curr</th>\n",
       "    </tr>\n",
       "  </thead>\n",
       "  <tbody>\n",
       "    <tr>\n",
       "      <th>0</th>\n",
       "      <td>1960Q1</td>\n",
       "      <td>3.93</td>\n",
       "      <td>3.87</td>\n",
       "      <td>4.57</td>\n",
       "      <td>4.64</td>\n",
       "      <td>4.49</td>\n",
       "      <td>31.67</td>\n",
       "      <td>33.20</td>\n",
       "      <td>29.40</td>\n",
       "      <td>18.92</td>\n",
       "      <td>140.53</td>\n",
       "      <td>896.1</td>\n",
       "      <td>299.40</td>\n",
       "      <td>5.13</td>\n",
       "      <td>23.93</td>\n",
       "      <td>2845.3</td>\n",
       "      <td>2824.2</td>\n",
       "      <td>18.521</td>\n",
       "      <td>31.830</td>\n",
       "    </tr>\n",
       "    <tr>\n",
       "      <th>1</th>\n",
       "      <td>1960Q2</td>\n",
       "      <td>3.70</td>\n",
       "      <td>2.99</td>\n",
       "      <td>3.87</td>\n",
       "      <td>4.30</td>\n",
       "      <td>4.26</td>\n",
       "      <td>31.73</td>\n",
       "      <td>33.40</td>\n",
       "      <td>29.57</td>\n",
       "      <td>19.00</td>\n",
       "      <td>138.40</td>\n",
       "      <td>903.3</td>\n",
       "      <td>300.03</td>\n",
       "      <td>5.23</td>\n",
       "      <td>23.41</td>\n",
       "      <td>2832.0</td>\n",
       "      <td>2851.2</td>\n",
       "      <td>18.579</td>\n",
       "      <td>31.862</td>\n",
       "    </tr>\n",
       "    <tr>\n",
       "      <th>2</th>\n",
       "      <td>1960Q3</td>\n",
       "      <td>2.94</td>\n",
       "      <td>2.36</td>\n",
       "      <td>3.07</td>\n",
       "      <td>3.67</td>\n",
       "      <td>3.83</td>\n",
       "      <td>31.63</td>\n",
       "      <td>33.43</td>\n",
       "      <td>29.59</td>\n",
       "      <td>19.07</td>\n",
       "      <td>139.60</td>\n",
       "      <td>919.4</td>\n",
       "      <td>305.50</td>\n",
       "      <td>5.53</td>\n",
       "      <td>23.02</td>\n",
       "      <td>2836.6</td>\n",
       "      <td>2878.7</td>\n",
       "      <td>18.648</td>\n",
       "      <td>32.217</td>\n",
       "    </tr>\n",
       "    <tr>\n",
       "      <th>3</th>\n",
       "      <td>1960Q4</td>\n",
       "      <td>2.30</td>\n",
       "      <td>2.31</td>\n",
       "      <td>2.99</td>\n",
       "      <td>3.75</td>\n",
       "      <td>3.89</td>\n",
       "      <td>31.70</td>\n",
       "      <td>33.67</td>\n",
       "      <td>29.78</td>\n",
       "      <td>19.14</td>\n",
       "      <td>142.67</td>\n",
       "      <td>932.8</td>\n",
       "      <td>312.30</td>\n",
       "      <td>6.27</td>\n",
       "      <td>22.47</td>\n",
       "      <td>2800.2</td>\n",
       "      <td>2906.7</td>\n",
       "      <td>18.700</td>\n",
       "      <td>32.624</td>\n",
       "    </tr>\n",
       "    <tr>\n",
       "      <th>4</th>\n",
       "      <td>1961Q1</td>\n",
       "      <td>2.00</td>\n",
       "      <td>2.35</td>\n",
       "      <td>2.87</td>\n",
       "      <td>3.64</td>\n",
       "      <td>3.79</td>\n",
       "      <td>31.80</td>\n",
       "      <td>33.63</td>\n",
       "      <td>29.84</td>\n",
       "      <td>19.17</td>\n",
       "      <td>142.23</td>\n",
       "      <td>948.9</td>\n",
       "      <td>317.10</td>\n",
       "      <td>6.80</td>\n",
       "      <td>22.13</td>\n",
       "      <td>2816.9</td>\n",
       "      <td>2934.8</td>\n",
       "      <td>18.743</td>\n",
       "      <td>32.073</td>\n",
       "    </tr>\n",
       "    <tr>\n",
       "      <th>...</th>\n",
       "      <td>...</td>\n",
       "      <td>...</td>\n",
       "      <td>...</td>\n",
       "      <td>...</td>\n",
       "      <td>...</td>\n",
       "      <td>...</td>\n",
       "      <td>...</td>\n",
       "      <td>...</td>\n",
       "      <td>...</td>\n",
       "      <td>...</td>\n",
       "      <td>...</td>\n",
       "      <td>...</td>\n",
       "      <td>...</td>\n",
       "      <td>...</td>\n",
       "      <td>...</td>\n",
       "      <td>...</td>\n",
       "      <td>...</td>\n",
       "      <td>...</td>\n",
       "      <td>...</td>\n",
       "    </tr>\n",
       "    <tr>\n",
       "      <th>207</th>\n",
       "      <td>2011Q4</td>\n",
       "      <td>0.07</td>\n",
       "      <td>0.01</td>\n",
       "      <td>0.11</td>\n",
       "      <td>0.95</td>\n",
       "      <td>2.05</td>\n",
       "      <td>200.77</td>\n",
       "      <td>192.97</td>\n",
       "      <td>226.97</td>\n",
       "      <td>112.50</td>\n",
       "      <td>2165.77</td>\n",
       "      <td>28787.3</td>\n",
       "      <td>9599.47</td>\n",
       "      <td>8.67</td>\n",
       "      <td>95.33</td>\n",
       "      <td>13441.0</td>\n",
       "      <td>14255.9</td>\n",
       "      <td>113.987</td>\n",
       "      <td>1055.496</td>\n",
       "    </tr>\n",
       "    <tr>\n",
       "      <th>208</th>\n",
       "      <td>2012Q1</td>\n",
       "      <td>0.10</td>\n",
       "      <td>0.07</td>\n",
       "      <td>0.16</td>\n",
       "      <td>0.90</td>\n",
       "      <td>2.04</td>\n",
       "      <td>202.17</td>\n",
       "      <td>193.73</td>\n",
       "      <td>228.27</td>\n",
       "      <td>113.12</td>\n",
       "      <td>2213.97</td>\n",
       "      <td>29238.6</td>\n",
       "      <td>9777.03</td>\n",
       "      <td>8.27</td>\n",
       "      <td>96.70</td>\n",
       "      <td>13506.4</td>\n",
       "      <td>14317.4</td>\n",
       "      <td>114.599</td>\n",
       "      <td>1082.519</td>\n",
       "    </tr>\n",
       "    <tr>\n",
       "      <th>209</th>\n",
       "      <td>2012Q2</td>\n",
       "      <td>0.15</td>\n",
       "      <td>0.09</td>\n",
       "      <td>0.19</td>\n",
       "      <td>0.79</td>\n",
       "      <td>1.82</td>\n",
       "      <td>201.80</td>\n",
       "      <td>192.83</td>\n",
       "      <td>228.84</td>\n",
       "      <td>113.60</td>\n",
       "      <td>2258.30</td>\n",
       "      <td>29611.6</td>\n",
       "      <td>9888.97</td>\n",
       "      <td>8.17</td>\n",
       "      <td>97.27</td>\n",
       "      <td>13548.5</td>\n",
       "      <td>14379.3</td>\n",
       "      <td>115.035</td>\n",
       "      <td>1104.500</td>\n",
       "    </tr>\n",
       "    <tr>\n",
       "      <th>210</th>\n",
       "      <td>2012Q3</td>\n",
       "      <td>0.14</td>\n",
       "      <td>0.10</td>\n",
       "      <td>0.18</td>\n",
       "      <td>0.67</td>\n",
       "      <td>1.64</td>\n",
       "      <td>202.40</td>\n",
       "      <td>195.20</td>\n",
       "      <td>230.03</td>\n",
       "      <td>113.91</td>\n",
       "      <td>2326.47</td>\n",
       "      <td>30251.4</td>\n",
       "      <td>10029.87</td>\n",
       "      <td>8.03</td>\n",
       "      <td>97.39</td>\n",
       "      <td>13652.5</td>\n",
       "      <td>14441.9</td>\n",
       "      <td>115.810</td>\n",
       "      <td>1119.187</td>\n",
       "    </tr>\n",
       "    <tr>\n",
       "      <th>211</th>\n",
       "      <td>2012Q4</td>\n",
       "      <td>0.16</td>\n",
       "      <td>0.09</td>\n",
       "      <td>0.17</td>\n",
       "      <td>0.69</td>\n",
       "      <td>1.71</td>\n",
       "      <td>202.27</td>\n",
       "      <td>196.20</td>\n",
       "      <td>231.28</td>\n",
       "      <td>114.18</td>\n",
       "      <td>2436.73</td>\n",
       "      <td>30938.8</td>\n",
       "      <td>10319.60</td>\n",
       "      <td>7.83</td>\n",
       "      <td>98.01</td>\n",
       "      <td>13665.4</td>\n",
       "      <td>14505.4</td>\n",
       "      <td>116.089</td>\n",
       "      <td>1147.623</td>\n",
       "    </tr>\n",
       "  </tbody>\n",
       "</table>\n",
       "<p>212 rows × 19 columns</p>\n",
       "</div>"
      ],
      "text/plain": [
       "       DATE   FFR  Tbill  Tb1yr    r5   r10  PPINSA  Finished     CPI  \\\n",
       "0    1960Q1  3.93   3.87   4.57  4.64  4.49   31.67     33.20   29.40   \n",
       "1    1960Q2  3.70   2.99   3.87  4.30  4.26   31.73     33.40   29.57   \n",
       "2    1960Q3  2.94   2.36   3.07  3.67  3.83   31.63     33.43   29.59   \n",
       "3    1960Q4  2.30   2.31   2.99  3.75  3.89   31.70     33.67   29.78   \n",
       "4    1961Q1  2.00   2.35   2.87  3.64  3.79   31.80     33.63   29.84   \n",
       "..      ...   ...    ...    ...   ...   ...     ...       ...     ...   \n",
       "207  2011Q4  0.07   0.01   0.11  0.95  2.05  200.77    192.97  226.97   \n",
       "208  2012Q1  0.10   0.07   0.16  0.90  2.04  202.17    193.73  228.27   \n",
       "209  2012Q2  0.15   0.09   0.19  0.79  1.82  201.80    192.83  228.84   \n",
       "210  2012Q3  0.14   0.10   0.18  0.67  1.64  202.40    195.20  230.03   \n",
       "211  2012Q4  0.16   0.09   0.17  0.69  1.71  202.27    196.20  231.28   \n",
       "\n",
       "     CPICORE    M1NSA     M2SA     M2NSA  Unemp  IndProd     RGDP   Potent  \\\n",
       "0      18.92   140.53    896.1    299.40   5.13    23.93   2845.3   2824.2   \n",
       "1      19.00   138.40    903.3    300.03   5.23    23.41   2832.0   2851.2   \n",
       "2      19.07   139.60    919.4    305.50   5.53    23.02   2836.6   2878.7   \n",
       "3      19.14   142.67    932.8    312.30   6.27    22.47   2800.2   2906.7   \n",
       "4      19.17   142.23    948.9    317.10   6.80    22.13   2816.9   2934.8   \n",
       "..       ...      ...      ...       ...    ...      ...      ...      ...   \n",
       "207   112.50  2165.77  28787.3   9599.47   8.67    95.33  13441.0  14255.9   \n",
       "208   113.12  2213.97  29238.6   9777.03   8.27    96.70  13506.4  14317.4   \n",
       "209   113.60  2258.30  29611.6   9888.97   8.17    97.27  13548.5  14379.3   \n",
       "210   113.91  2326.47  30251.4  10029.87   8.03    97.39  13652.5  14441.9   \n",
       "211   114.18  2436.73  30938.8  10319.60   7.83    98.01  13665.4  14505.4   \n",
       "\n",
       "     Deflator      Curr  \n",
       "0      18.521    31.830  \n",
       "1      18.579    31.862  \n",
       "2      18.648    32.217  \n",
       "3      18.700    32.624  \n",
       "4      18.743    32.073  \n",
       "..        ...       ...  \n",
       "207   113.987  1055.496  \n",
       "208   114.599  1082.519  \n",
       "209   115.035  1104.500  \n",
       "210   115.810  1119.187  \n",
       "211   116.089  1147.623  \n",
       "\n",
       "[212 rows x 19 columns]"
      ]
     },
     "execution_count": 54,
     "metadata": {},
     "output_type": "execute_result"
    }
   ],
   "source": [
    "df =pd.read_excel('quarterly.xls')\n",
    "df.dropna() #On supprime les lignes qui ont une(ou des)données manquantes"
   ]
  },
  {
   "cell_type": "markdown",
   "id": "5339539d",
   "metadata": {},
   "source": [
    "Le set de data n'est pas exactement une série temporelle à cause des YearQ, je veux la transformer en série temporelle (notamment pour un affichage plus propre des graphiques qui pourront porter une échelle avec des nombres): "
   ]
  },
  {
   "cell_type": "code",
   "execution_count": 55,
   "id": "61f44d1d",
   "metadata": {},
   "outputs": [],
   "source": [
    "df[\"DATE\"] = pd.date_range(start = \"1960/01\", end = \"2012/12\", freq= \"3 m\")"
   ]
  },
  {
   "cell_type": "markdown",
   "id": "b2853a0d",
   "metadata": {},
   "source": [
    "**<b>QUESTION 2**\n",
    "    \n",
    "    On a la formule suivante pour l'inflation :\n",
    "$inf=100\\frac{CPI(final)-CPI(initial)}{CPI(initial)}$ "
   ]
  },
  {
   "cell_type": "code",
   "execution_count": 56,
   "id": "9ba28b50",
   "metadata": {},
   "outputs": [
    {
     "data": {
      "image/png": "[encoded data removed]",
      "text/plain": [
       "<Figure size 432x288 with 1 Axes>"
      ]
     },
     "metadata": {
      "needs_background": "light"
     },
     "output_type": "display_data"
    }
   ],
   "source": [
    "cpi=df[\"CPI\"]\n",
    "\n",
    "inf=np.zeros(len(cpi))\n",
    "\n",
    "for i in range(1,len(cpi)):\n",
    "    inf[i]= 100*(cpi[i]-cpi[i-1])/cpi[i-1]\n",
    "    \n",
    "plt.plot(df.DATE,inf)\n",
    "plt.xlabel('Temps de 1960 à 2012')\n",
    "plt.ylabel('Inflation')\n",
    "plt.grid()\n",
    "plt.show()"
   ]
  },
  {
   "cell_type": "markdown",
   "id": "fdfc9d4d",
   "metadata": {},
   "source": [
    "On constate que le taux d'inflation augmente globalement de 1960 à 1980 avec deux pics dans les années 70 surement dûs à la flambée des prix avec la crise du pétrole. Il descend ensuite jusqu'aux années 2010. Notons un pic minimun juste avant 2010, celui correspond à la crise des supbrimes."
   ]
  },
  {
   "cell_type": "markdown",
   "id": "e17057fc",
   "metadata": {},
   "source": [
    "**<b>QUESTION 3**"
   ]
  },
  {
   "cell_type": "markdown",
   "id": "0cfee83d",
   "metadata": {},
   "source": [
    "**<B> Autocorrélogramme de inf:**"
   ]
  },
  {
   "cell_type": "code",
   "execution_count": 57,
   "id": "4e9ed9c1",
   "metadata": {},
   "outputs": [
    {
     "data": {
      "image/png": "[encoded data removed]",
      "text/plain": [
       "<Figure size 432x288 with 1 Axes>"
      ]
     },
     "metadata": {
      "needs_background": "light"
     },
     "output_type": "display_data"
    }
   ],
   "source": [
    "from statsmodels.graphics.tsaplots import plot_acf\n",
    "from statsmodels.graphics.tsaplots import plot_pacf\n",
    "\n",
    "plot_acf(inf)\n",
    "plt.show()\n"
   ]
  },
  {
   "cell_type": "markdown",
   "id": "73a47e19",
   "metadata": {},
   "source": [
    "**<b> Autocorrolégramme partiel de inf:**"
   ]
  },
  {
   "cell_type": "code",
   "execution_count": 58,
   "id": "be43aa28",
   "metadata": {},
   "outputs": [
    {
     "data": {
      "image/png": "[encoded data removed]",
      "text/plain": [
       "<Figure size 432x288 with 1 Axes>"
      ]
     },
     "metadata": {
      "needs_background": "light"
     },
     "output_type": "display_data"
    }
   ],
   "source": [
    "plot_pacf(inf)\n",
    "plt.show()"
   ]
  },
  {
   "cell_type": "markdown",
   "id": "4e7cd04d",
   "metadata": {},
   "source": [
    "On sait que : \n",
    "\n",
    "    \"Fonction d'autocorrélation (ACF): Au décalage k, il s'agit de la corrélation entre les valeurs de séries   \n",
    "    séparées par k intervalles.\n",
    "    Fonction d'autocorrélation partielle (PACF): Au décalage k, il s'agit de la corrélation entre les valeurs de \n",
    "    séries séparées par k intervalles, compte tenu des valeurs des intervalles intermédiaires.\"\n",
    "    \n",
    "On remarque ici que l'autocorrélation est maximale pour un décalage nul et diminue progressivement.\n",
    "L'autocorrélation partielle est également maximale pour un décalage k = 0 ou 1 mais devient très vite nul. \n",
    "\n",
    "Cela veut donc dire qu'une série à un temps t est surtout influencée par la serie précente de t-1 à t-4."
   ]
  },
  {
   "cell_type": "markdown",
   "id": "9b1688e4",
   "metadata": {},
   "source": [
    "**<B>QUESTION 4**"
   ]
  },
  {
   "cell_type": "markdown",
   "id": "d3f635d8",
   "metadata": {},
   "source": [
    "Une série est **<b>stationnaire</b>** s'il un existe un temps t à partir du quel les séries sont ( à peu près) égales.\n",
    "\n",
    "Une série est **<b>ergodique</b>** si, à partir d'un temps t, elle ne dépend plus de ses conditions initiales: son autocorrélation d'ordre k tend vers 0 lorsque k tend vers l'infini.\n",
    "\n",
    "Ces conditions sont nécessaires pour effectuer une bonne régression mais également pour appliquer le théorème ergodique qui nous permet d'estimer l'espérérance du processus par la moyenne d'un echantillon suffisament grand."
   ]
  },
  {
   "cell_type": "markdown",
   "id": "62be37be",
   "metadata": {},
   "source": [
    "**<b>QUESTION 5**"
   ]
  },
  {
   "cell_type": "markdown",
   "id": "2f4b4183",
   "metadata": {},
   "source": [
    "On veut une modélisation de AR(p) de inf, on va faire une boucle de 1 à 10 de p pour trouver p minimisant AIC et BIC"
   ]
  },
  {
   "cell_type": "code",
   "execution_count": 59,
   "id": "1271167d",
   "metadata": {},
   "outputs": [
    {
     "name": "stdout",
     "output_type": "stream",
     "text": [
      "p: 1  AIC: -1.3573600145032916  BIC: -1.3097032637903618\n",
      "p: 2  AIC: -1.3773568402690743  BIC: -1.3136024111125513\n",
      "p: 3  AIC: -1.4580738661155512  BIC: -1.3781137165470152\n",
      "p: 4  AIC: -1.4511099375385326  BIC: -1.3548348006240716\n",
      "p: 5  AIC: -1.4576419321669698  BIC: -1.3449412966459189\n",
      "p: 6  AIC: -1.4436368322145066  BIC: -1.31439892274695\n",
      "p: 7  AIC: -1.4338342179837467  BIC: -1.2879459749971824\n",
      "p: 8  AIC: -1.426725260219147  BIC: -1.2640723193444305\n",
      "p: 9  AIC: -1.4124265339458393  BIC: -1.232893205032245\n"
     ]
    },
    {
     "data": {
      "image/png": "[encoded data removed]",
      "text/plain": [
       "<Figure size 432x288 with 1 Axes>"
      ]
     },
     "metadata": {
      "needs_background": "light"
     },
     "output_type": "display_data"
    },
    {
     "name": "stdout",
     "output_type": "stream",
     "text": [
      "On souhaite maximiser la vraisemblance.\n",
      "Le lag p qui minimise le critère d'information AIC de la modélisation AutoReg(inf,p) est 3\n",
      "Nous proposons une modélisation AR( 3 ):\n",
      "                               AR Model Results                               \n",
      "==============================================================================\n",
      "Dep. Variable:                      y   No. Observations:                  212\n",
      "Model:                          AR(3)   Log Likelihood                -139.189\n",
      "Method:                          cmle   S.D. of innovations              0.471\n",
      "Date:                Sun, 21 Nov 2021   AIC                             -1.458\n",
      "Time:                        23:12:44   BIC                             -1.378\n",
      "Sample:                             0   HQIC                            -1.426\n",
      "                                                                              \n",
      "==============================================================================\n",
      "                 coef    std err          z      P>|z|      [0.025      0.975]\n",
      "------------------------------------------------------------------------------\n",
      "const          0.1427      0.057      2.505      0.012       0.031       0.254\n",
      "L1.y           0.5782      0.067      8.682      0.000       0.448       0.709\n",
      "L2.y          -0.0125      0.078     -0.161      0.872      -0.165       0.140\n",
      "L3.y           0.2926      0.066      4.406      0.000       0.162       0.423\n",
      "                                    Roots                                    \n",
      "=============================================================================\n",
      "                  Real          Imaginary           Modulus         Frequency\n",
      "-----------------------------------------------------------------------------\n",
      "AR.1            1.0935           -0.0000j            1.0935           -0.0000\n",
      "AR.2           -0.5254           -1.6879j            1.7678           -0.2980\n",
      "AR.3           -0.5254           +1.6879j            1.7678            0.2980\n",
      "-----------------------------------------------------------------------------\n"
     ]
    }
   ],
   "source": [
    "import warnings\n",
    "warnings.filterwarnings('ignore')\n",
    "    \n",
    "import statsmodels.tsa.api as smt \n",
    "\n",
    "AIC=[]\n",
    "for p in range(1,10): \n",
    "    mdl = smt.AR(inf).fit(maxlag=p) \n",
    "    AIC.append(mdl.aic)\n",
    "    print('p:', p, ' AIC:', mdl.aic, ' BIC:', mdl.bic)\n",
    "    \n",
    "plt.plot(AIC)\n",
    "plt.xlabel('valeur du lag p')\n",
    "plt.ylabel(\"AIC pour AutoReg d'inf d'ordre p\")\n",
    "plt.show()\n",
    "\n",
    "print(\"On souhaite maximiser la vraisemblance.\" )\n",
    "print(\"Le lag p qui minimise le critère d'information AIC de la modélisation AutoReg(inf,p) est\", AIC.index(min(AIC))+1)\n",
    "print(\"Nous proposons une modélisation AR(\",AIC.index(min(AIC))+1,\"):\")\n",
    "print(smt.AR(inf).fit(maxlag=3).summary())\n",
    "\n"
   ]
  },
  {
   "cell_type": "markdown",
   "id": "fc65f66c",
   "metadata": {},
   "source": [
    "**<B>QUESTION 6**"
   ]
  },
  {
   "cell_type": "markdown",
   "id": "a9d5e3ac",
   "metadata": {},
   "source": [
    "On applique la méthode des moindres carrés à la courbe de Philipps expliquant le taux de chomage en fonction de l'inflation :"
   ]
  },
  {
   "cell_type": "code",
   "execution_count": 60,
   "id": "f9fb7317",
   "metadata": {},
   "outputs": [
    {
     "name": "stdout",
     "output_type": "stream",
     "text": [
      "                            OLS Regression Results                            \n",
      "==============================================================================\n",
      "Dep. Variable:                  Unemp   R-squared:                       0.000\n",
      "Model:                            OLS   Adj. R-squared:                 -0.005\n",
      "Method:                 Least Squares   F-statistic:                   0.02604\n",
      "Date:                Sun, 21 Nov 2021   Prob (F-statistic):              0.872\n",
      "Time:                        23:12:45   Log-Likelihood:                -401.84\n",
      "No. Observations:                 212   AIC:                             807.7\n",
      "Df Residuals:                     210   BIC:                             814.4\n",
      "Df Model:                           1                                         \n",
      "Covariance Type:            nonrobust                                         \n",
      "==============================================================================\n",
      "                 coef    std err          t      P>|t|      [0.025      0.975]\n",
      "------------------------------------------------------------------------------\n",
      "const          6.0593      0.179     33.774      0.000       5.706       6.413\n",
      "x1             0.0232      0.144      0.161      0.872      -0.260       0.306\n",
      "==============================================================================\n",
      "Omnibus:                       14.253   Durbin-Watson:                   0.044\n",
      "Prob(Omnibus):                  0.001   Jarque-Bera (JB):               15.817\n",
      "Skew:                           0.669   Prob(JB):                     0.000368\n",
      "Kurtosis:                       2.954   Cond. No.                         2.97\n",
      "==============================================================================\n",
      "\n",
      "Notes:\n",
      "[1] Standard Errors assume that the covariance matrix of the errors is correctly specified.\n"
     ]
    },
    {
     "data": {
      "text/plain": [
       "<seaborn.axisgrid.FacetGrid at 0x7fb79bd07700>"
      ]
     },
     "execution_count": 60,
     "metadata": {},
     "output_type": "execute_result"
    },
    {
     "data": {
      "image/png": "[encoded data removed]",
      "text/plain": [
       "<Figure size 360x360 with 1 Axes>"
      ]
     },
     "metadata": {
      "needs_background": "light"
     },
     "output_type": "display_data"
    }
   ],
   "source": [
    "import seaborn as sns\n",
    "import statsmodels.api as sm\n",
    "\n",
    "const=np.ones(np.shape(df)[0]) \n",
    "\n",
    "unemp=df['Unemp']\n",
    "df['inf']=inf \n",
    "\n",
    "model=sm.OLS(unemp,np.column_stack((const,inf))).fit()\n",
    "\n",
    "print(model.summary())\n",
    "\n",
    "sns.lmplot(x='inf',y='Unemp',data=df) #This function combines regplot() and FacetGrid. \n",
    "#It is intended as a convenient interface to fit regression models across conditional subsets of a dataset.\n",
    "\n"
   ]
  },
  {
   "cell_type": "markdown",
   "id": "5a98d991",
   "metadata": {},
   "source": [
    "Le modèle de la courbe de Philipps est donc de type affine : $Unemp =6,059 + 0.023Inf$"
   ]
  },
  {
   "cell_type": "markdown",
   "id": "59eb635f",
   "metadata": {},
   "source": [
    "**<b>QUESTION 7**\n",
    "   "
   ]
  },
  {
   "cell_type": "code",
   "execution_count": 61,
   "id": "3368ed30",
   "metadata": {},
   "outputs": [
    {
     "data": {
      "image/png": "[encoded data removed]",
      "text/plain": [
       "<Figure size 432x288 with 1 Axes>"
      ]
     },
     "metadata": {
      "needs_background": "light"
     },
     "output_type": "display_data"
    },
    {
     "data": {
      "image/png": "[encoded data removed]",
      "text/plain": [
       "<Figure size 432x288 with 1 Axes>"
      ]
     },
     "metadata": {
      "needs_background": "light"
     },
     "output_type": "display_data"
    },
    {
     "data": {
      "image/png": "[encoded data removed]",
      "text/plain": [
       "<Figure size 432x288 with 1 Axes>"
      ]
     },
     "metadata": {
      "needs_background": "light"
     },
     "output_type": "display_data"
    }
   ],
   "source": [
    "plt.plot(model.resid)\n",
    "plt.ylabel('Résidus')\n",
    "plt.xlabel(\"Nombre d'instance\")\n",
    "plot_acf(model.resid)\n",
    "plot_pacf(model.resid)\n",
    "\n",
    "plt.show()"
   ]
  },
  {
   "cell_type": "markdown",
   "id": "52fd80f4",
   "metadata": {},
   "source": [
    "Pour une modélisation AR(1), le cours nous informe que les résidus sont du type: $u_{t}= \\rho u_{t-1} + e_{t}$\n",
    "\n",
    "On a l'hypothèse nulle $H_{0}$: $\\rho=0$\n",
    "et l'hypothèse contraire  $H_{1}$: $\\rho \\ne0$\n",
    "\n",
    "Pour cela, nous utilisons le test de Durbin-Watson, qui, rappelons le : \" cherche à vérifier la significativité du coefficient $\\rho$ \"\n",
    "\n",
    "On pourrait utiliser la fonction statsmodels.stats.stattools.durbin_watson, mais de fait, l'OLS regression results présenté à la QUESTION 6 affiche déjà le résultat: \n",
    "\n"
   ]
  },
  {
   "cell_type": "code",
   "execution_count": 62,
   "id": "ba8d1d5b",
   "metadata": {},
   "outputs": [
    {
     "name": "stdout",
     "output_type": "stream",
     "text": [
      "                            OLS Regression Results                            \n",
      "==============================================================================\n",
      "Dep. Variable:                  Unemp   R-squared:                       0.000\n",
      "Model:                            OLS   Adj. R-squared:                 -0.005\n",
      "Method:                 Least Squares   F-statistic:                   0.02604\n",
      "Date:                Sun, 21 Nov 2021   Prob (F-statistic):              0.872\n",
      "Time:                        23:12:54   Log-Likelihood:                -401.84\n",
      "No. Observations:                 212   AIC:                             807.7\n",
      "Df Residuals:                     210   BIC:                             814.4\n",
      "Df Model:                           1                                         \n",
      "Covariance Type:            nonrobust                                         \n",
      "==============================================================================\n",
      "                 coef    std err          t      P>|t|      [0.025      0.975]\n",
      "------------------------------------------------------------------------------\n",
      "const          6.0593      0.179     33.774      0.000       5.706       6.413\n",
      "x1             0.0232      0.144      0.161      0.872      -0.260       0.306\n",
      "==============================================================================\n",
      "Omnibus:                       14.253   Durbin-Watson:                   0.044\n",
      "Prob(Omnibus):                  0.001   Jarque-Bera (JB):               15.817\n",
      "Skew:                           0.669   Prob(JB):                     0.000368\n",
      "Kurtosis:                       2.954   Cond. No.                         2.97\n",
      "==============================================================================\n",
      "\n",
      "Notes:\n",
      "[1] Standard Errors assume that the covariance matrix of the errors is correctly specified.\n"
     ]
    }
   ],
   "source": [
    "print(model.summary())"
   ]
  },
  {
   "cell_type": "markdown",
   "id": "924b9006",
   "metadata": {},
   "source": [
    "On lit un résultat pour le test de Durbin-Watson de $DW=0.044$.\n",
    "\n",
    "On a également une p-value nulle donc on **<b>on rejette l'hypothèse nulle, l'autocorrélation des erreurs est non-nulle**"
   ]
  },
  {
   "cell_type": "markdown",
   "id": "a489e340",
   "metadata": {},
   "source": [
    "**<b>QUESTION 8**"
   ]
  },
  {
   "cell_type": "markdown",
   "id": "31864ccf",
   "metadata": {},
   "source": [
    "On a vu au cours 6 que $DW\\approx 2(1-\\hat{\\rho})$\n",
    "\n",
    "En connaissant la valeur de $\\hat{\\rho}$ désormais avec MCO, on peut corriger l'autocorrélation en transformant les variables:"
   ]
  },
  {
   "cell_type": "code",
   "execution_count": 63,
   "id": "cec9d5cd",
   "metadata": {},
   "outputs": [
    {
     "name": "stdout",
     "output_type": "stream",
     "text": [
      "                            OLS Regression Results                            \n",
      "==============================================================================\n",
      "Dep. Variable:                      y   R-squared:                       0.023\n",
      "Model:                            OLS   Adj. R-squared:                  0.019\n",
      "Method:                 Least Squares   F-statistic:                     5.006\n",
      "Date:                Sun, 21 Nov 2021   Prob (F-statistic):             0.0263\n",
      "Time:                        23:13:03   Log-Likelihood:                -70.295\n",
      "No. Observations:                 212   AIC:                             144.6\n",
      "Df Residuals:                     210   BIC:                             151.3\n",
      "Df Model:                           1                                         \n",
      "Covariance Type:            nonrobust                                         \n",
      "==============================================================================\n",
      "                 coef    std err          t      P>|t|      [0.025      0.975]\n",
      "------------------------------------------------------------------------------\n",
      "const          0.1532      0.023      6.577      0.000       0.107       0.199\n",
      "x1            -0.0988      0.044     -2.237      0.026      -0.186      -0.012\n",
      "==============================================================================\n",
      "Omnibus:                       80.650   Durbin-Watson:                   0.724\n",
      "Prob(Omnibus):                  0.000   Jarque-Bera (JB):              261.310\n",
      "Skew:                           1.587   Prob(JB):                     1.81e-57\n",
      "Kurtosis:                       7.417   Cond. No.                         1.90\n",
      "==============================================================================\n",
      "\n",
      "Notes:\n",
      "[1] Standard Errors assume that the covariance matrix of the errors is correctly specified.\n"
     ]
    }
   ],
   "source": [
    "DW=0.044\n",
    "rho_estimé=1-(DW/2)\n",
    "\n",
    "n = np.shape(df)[0]\n",
    "\n",
    "#On transforme inf \n",
    "inf_corrrected = np.zeros(n) \n",
    "inf_corrrected[0] = (np.sqrt(1 - rho_estimé*rho_estimé)*inf[0])\n",
    "for i in range(1,n): \n",
    "    inf_corrrected[i]=inf[i]-rho_estimé*inf[i-1]\n",
    "    \n",
    "#On transforme unemp\n",
    "unemp_corrrected = np.zeros(n) \n",
    "unemp_corrrected[0] = (np.sqrt(1 - rho_estimé*rho_estimé)*unemp[0])\n",
    "for i in range(1,n): \n",
    "    unemp_corrrected[i]=unemp[i]-rho_estimé*unemp[i-1]\n",
    "    \n",
    "\n",
    "\n",
    "    \n",
    "#On refait une MCO   \n",
    "model_corrected = sm.OLS(unemp_corrrected,np.column_stack((const,inf_corrrected))).fit() \n",
    "print(model_corrected.summary()) \n",
    "\n",
    "u=model_corrected.resid"
   ]
  },
  {
   "cell_type": "markdown",
   "id": "89afa7ce",
   "metadata": {},
   "source": [
    "On peut verifier qu'on a bien corrigé l'autocorrélation des erreurs:\n",
    "\n"
   ]
  },
  {
   "cell_type": "code",
   "execution_count": 64,
   "id": "7f32bf7b",
   "metadata": {},
   "outputs": [
    {
     "data": {
      "image/png": "[encoded data removed]",
      "text/plain": [
       "<Figure size 432x288 with 1 Axes>"
      ]
     },
     "metadata": {
      "needs_background": "light"
     },
     "output_type": "display_data"
    },
    {
     "data": {
      "image/png": "[encoded data removed]",
      "text/plain": [
       "<Figure size 432x288 with 1 Axes>"
      ]
     },
     "metadata": {
      "needs_background": "light"
     },
     "output_type": "display_data"
    }
   ],
   "source": [
    "plot_acf(model.resid)\n",
    "plt.title('Autocorrelation des erreurs avant correction')\n",
    "plot_acf(model_corrected.resid)\n",
    "plt.title('Autocorrelation des erreurs après correction')\n",
    "\n",
    "plt.show()"
   ]
  },
  {
   "cell_type": "markdown",
   "id": "24e1700c",
   "metadata": {},
   "source": [
    " **<b> QUESTION 9**"
   ]
  },
  {
   "cell_type": "markdown",
   "id": "a81e6de8",
   "metadata": {},
   "source": [
    "On veut tester la stabilité de la relation chômage-inflation sur deux sous-périodes de taille identique. \n",
    "\n",
    "Pour cela, on divise inf et unemp en 2 liste de même taille. \n",
    "\n",
    "Ensuite, on va effectuer un test de Chow pour tester l'hypothèse $H_{0}$: \"Couper en deux sous-périodes de taille identique n'apporte pas d'amélioration\"\n",
    "\n",
    "On effectue un test de Fisher sur les deux SSR créés ($k=2$ variables et 1 contrainte)\n"
   ]
  },
  {
   "cell_type": "code",
   "execution_count": 65,
   "id": "269d4a97",
   "metadata": {},
   "outputs": [],
   "source": [
    "import statsmodels.api as sm\n",
    "from scipy.stats import f\n",
    "\n",
    "mid = int(n/2)\n",
    "\n",
    "inf1 = inf_corrrected[:mid]\n",
    "inf2 = inf_corrrected[mid:]\n",
    "\n",
    "\n",
    "unemp1 = unemp_corrrected[:mid]\n",
    "unemp2 = unemp_corrrected[mid:]\n",
    "\n",
    "const_new = np.ones(mid)\n",
    "\n",
    "SSR = u.T @u\n",
    "\n",
    "X1 = np.column_stack((const_new, inf1))\n",
    "Y1 = unemp1\n",
    "Beta1 = np.linalg.inv(X1.T @ X1)@X1.T@Y1\n",
    "u1 = Y1 - X1@Beta1\n",
    "\n",
    "SSR1 = u1.T @ u1\n",
    "\n",
    "\n",
    "X2 = np.column_stack((const_new, inf2))\n",
    "Y2 = unemp2\n",
    "Beta2 = np.linalg.inv(X2.T @ X2)@X2.T@Y2\n",
    "u2 = Y2 - X2@Beta2\n",
    "\n",
    "SSR2 = u2.T @ u2\n",
    "\n",
    "\n",
    "\n"
   ]
  },
  {
   "cell_type": "markdown",
   "id": "da928efe",
   "metadata": {},
   "source": [
    "On calcule maintenant la statistique de Fisher:"
   ]
  },
  {
   "cell_type": "code",
   "execution_count": 66,
   "id": "00cc9aeb",
   "metadata": {},
   "outputs": [
    {
     "name": "stdout",
     "output_type": "stream",
     "text": [
      "Statistique Fisher F vaut:\n",
      "4.208184015012401\n",
      "p-value vaut: \n",
      "0.01615905614021596\n"
     ]
    }
   ],
   "source": [
    "k=2 #Nombre de variables en jeu \n",
    "\n",
    "F = ((SSR - (SSR1 + SSR2))/k)/((SSR1 + SSR2)/(n - 2*k))\n",
    "\n",
    "print(\"Statistique Fisher F vaut:\")\n",
    "print(F)\n",
    "print(\"p-value vaut: \")\n",
    "print(f.sf(F, 2, n - 2*2))"
   ]
  },
  {
   "cell_type": "markdown",
   "id": "afbd6fce",
   "metadata": {},
   "source": [
    "On voit que la p-value est sous 5% donc on rejette l'hypothèse $H_{0}.\n",
    "\n",
    "Cela veut dire que la relation inflation-chomage n'est pas stable."
   ]
  },
  {
   "cell_type": "markdown",
   "id": "2c90bf9c",
   "metadata": {},
   "source": [
    "**<B>QUESTION 10**"
   ]
  },
  {
   "cell_type": "markdown",
   "id": "c9d1ba86",
   "metadata": {},
   "source": [
    "On veut estimer la courbe de Philips en supprimant l'inflation courante des variables explicatives mais \n",
    "en ajoutant les délais d’ordre 1, 2, 3 et 4 de l’inflation et du chômage."
   ]
  },
  {
   "cell_type": "code",
   "execution_count": 67,
   "id": "b0934b49",
   "metadata": {},
   "outputs": [],
   "source": [
    "#On ajoute un délai sur unemp (on perd 4 valeurs)\n",
    "unemp1=df.Unemp[2:n-4] \n",
    "unemp2=df.Unemp[3:n-3] \n",
    "unemp3=df.Unemp[4:n-2] \n",
    "unemp4=df.Unemp[5:n-1] \n",
    "\n",
    "#De même avec les transposées de inf\n",
    "inf1=inf.T[2:n-4] \n",
    "inf2=inf.T[3:n-3] \n",
    "inf3=inf.T[4:n-2] \n",
    "inf4=inf.T[5:n-1] "
   ]
  },
  {
   "cell_type": "markdown",
   "id": "b51d5716",
   "metadata": {},
   "source": [
    "On construit maintenant la nouvelle courbe de Philips:"
   ]
  },
  {
   "cell_type": "code",
   "execution_count": 68,
   "id": "cc136049",
   "metadata": {},
   "outputs": [],
   "source": [
    "X=np.column_stack((unemp1,unemp2,unemp3,unemp4)) \n",
    "M=df.Unemp[1:n-5] \n",
    "beta=np.linalg.inv(X.T.dot(X)).dot(X.T).dot(M) \n",
    "unemp=X.dot(beta) \n",
    "\n",
    "Y=np.column_stack((inf1,inf2,inf3,inf4,unemp1,unemp2,unemp3,unemp4)) \n",
    "beta2=np.linalg.inv(Y.T.dot(Y)).dot(Y.T).dot(M) \n",
    "unemp2=Y.dot(beta2)"
   ]
  },
  {
   "cell_type": "markdown",
   "id": "11bdc846",
   "metadata": {},
   "source": [
    "On peut tracer cette courbe de Philips:"
   ]
  },
  {
   "cell_type": "code",
   "execution_count": 69,
   "id": "5f0d76e8",
   "metadata": {},
   "outputs": [
    {
     "data": {
      "image/png": "[encoded data removed]",
      "text/plain": [
       "<Figure size 432x288 with 1 Axes>"
      ]
     },
     "metadata": {
      "needs_background": "light"
     },
     "output_type": "display_data"
    }
   ],
   "source": [
    "plt.plot(unemp2) \n",
    "plt.ylabel(\"Chômage en %\") \n",
    "plt.title(\"Courbe de Philips\") \n",
    "plt.show()"
   ]
  },
  {
   "cell_type": "markdown",
   "id": "b328ac65",
   "metadata": {},
   "source": [
    "On va maintenant effectuer le test de Granger de non causalité de l’inflation sur le chômage.\n",
    "\n",
    "On s'intéresse donc au modèle :\n",
    "\n",
    "$unemp_{t} = const +\\alpha_{1} inf_{t-1} +\\alpha_{2} inf_{t-2} +\\alpha_{3} inf_{t-3} +\\alpha_{3} inf_{t-4} +\\beta Unemp_{t} +\\beta_{1} Unemp_{t-1} +\\beta_{2} Unemp_{t-2} +\\beta_{3} Unemp_{t-3} + \\beta_{4}Unemp_{t-4}$\n",
    "\n",
    "L'hypothèse nulle est donc $H_{0}:\\alpha_{1}=\\alpha_{2}=\\alpha_{3}=\\alpha_{4}=0$\n",
    "\n",
    "On applique le test de Fisher avec 9 variables, 4 contraintes et n-5 observations:"
   ]
  },
  {
   "cell_type": "code",
   "execution_count": 75,
   "id": "3a98f03a",
   "metadata": {},
   "outputs": [
    {
     "name": "stdout",
     "output_type": "stream",
     "text": [
      "La statistique Fisher F vaut:\n",
      "3.567222510323905\n",
      "\n",
      "\n",
      "p-value vaut: \n",
      "0.007799066758745032\n"
     ]
    }
   ],
   "source": [
    "u=df.Unemp[1:n-5]-unemp2 \n",
    "SSR3=u.T.dot(u) \n",
    " \n",
    "u2=df.Unemp[1:n-5]-unemp \n",
    "SSR4=u2.T.dot(u2) \n",
    " \n",
    "F=((SSR4-SSR3)/SSR3)*(n-5-9)/4 \n",
    "\n",
    "\n",
    "print(\"La statistique Fisher F vaut:\")\n",
    "print(F)\n",
    "print(\"\\n\")\n",
    "print(\"p-value vaut: \")\n",
    "print(f.sf(F, 4, n - 5-9))\n"
   ]
  },
  {
   "cell_type": "markdown",
   "id": "2452a83b",
   "metadata": {},
   "source": [
    "On rejette donc l'hypothèse nulle à 5%.\n",
    "\n",
    "On peut donc conclure qu'il y a causalité entre ces délais et le chomâge.\n"
   ]
  },
  {
   "cell_type": "markdown",
   "id": "f430b6b1",
   "metadata": {},
   "source": [
    "**<b>QUESTION 11**"
   ]
  },
  {
   "cell_type": "markdown",
   "id": "202690f3",
   "metadata": {},
   "source": [
    "On trace ces délais distribués:\n"
   ]
  },
  {
   "cell_type": "code",
   "execution_count": 71,
   "id": "56215267",
   "metadata": {},
   "outputs": [
    {
     "data": {
      "image/png": "[encoded data removed]",
      "text/plain": [
       "<Figure size 432x288 with 1 Axes>"
      ]
     },
     "metadata": {
      "needs_background": "light"
     },
     "output_type": "display_data"
    }
   ],
   "source": [
    "plt.plot([1,2,3,4],beta2[0:4]) \n",
    "plt.plot([1,2,3,4],beta2[4:8]) \n",
    "plt.legend(['Unemployement','Inflation'])\n",
    "plt.xticks([1,2,3,4])\n",
    "plt.xlabel(\"Valeur du délai\") \n",
    "plt.ylabel(\"Influence sur les coefficients\") \n",
    "\n",
    "plt.show()"
   ]
  },
  {
   "cell_type": "markdown",
   "id": "bc899ac3",
   "metadata": {},
   "source": [
    "On remarque donc que l'influence des délais distribués sur l'inemploi est bien plus importante lorsqu'elle est sur l'inemploi que sur l'inflation (ce que est prévisible). \n",
    "On remaque que la valeur maximale est pour un déphasage d'un et la minimale est pour un déphasage de 2.\n",
    "\n",
    "On peut s'intéresser à la valeur de l'impact à long terme :"
   ]
  },
  {
   "cell_type": "code",
   "execution_count": 72,
   "id": "cdaf0026",
   "metadata": {},
   "outputs": [
    {
     "name": "stdout",
     "output_type": "stream",
     "text": [
      "La valeur de l'impact à long terme est 0.04131863856802653\n"
     ]
    }
   ],
   "source": [
    "print (\"La valeur de l'impact à long terme est\", sum(beta2[0:4]))"
   ]
  }
 ],
 "metadata": {
  "kernelspec": {
   "display_name": "Python 3",
   "language": "python",
   "name": "python3"
  },
  "language_info": {
   "codemirror_mode": {
    "name": "ipython",
    "version": 3
   },
   "file_extension": ".py",
   "mimetype": "text/x-python",
   "name": "python",
   "nbconvert_exporter": "python",
   "pygments_lexer": "ipython3",
   "version": "3.8.8"
  }
 },
 "nbformat": 4,
 "nbformat_minor": 5
}
